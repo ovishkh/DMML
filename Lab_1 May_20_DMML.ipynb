{
  "nbformat": 4,
  "nbformat_minor": 0,
  "metadata": {
    "colab": {
      "provenance": []
    },
    "kernelspec": {
      "name": "python3",
      "display_name": "Python 3"
    },
    "language_info": {
      "name": "python"
    }
  },
  "cells": [
    {
      "cell_type": "code",
      "execution_count": null,
      "metadata": {
        "id": "9lPCPgiU_34e"
      },
      "outputs": [],
      "source": []
    },
    {
      "cell_type": "markdown",
      "source": [
        "# Creating Arrays using Numpy :)"
      ],
      "metadata": {
        "id": "igpodTim_4tw"
      }
    },
    {
      "cell_type": "code",
      "source": [
        "import numpy as np"
      ],
      "metadata": {
        "id": "MZjNTQgHBGEH"
      },
      "execution_count": null,
      "outputs": []
    },
    {
      "cell_type": "code",
      "source": [
        "arr = np.array([1,2,3,4,5,6])\n",
        "print(arr)"
      ],
      "metadata": {
        "colab": {
          "base_uri": "https://localhost:8080/"
        },
        "id": "0Mc7gwTPADaH",
        "outputId": "eb0b51e9-e8ee-4968-c355-2fe226c03a4e"
      },
      "execution_count": null,
      "outputs": [
        {
          "output_type": "stream",
          "name": "stdout",
          "text": [
            "[1 2 3 4 5 6]\n"
          ]
        }
      ]
    },
    {
      "cell_type": "code",
      "source": [
        "arr2d = np.array([[1,2,3],[4,5,6],[7,8,9]])\n",
        "print(arr2d)\n",
        "print(\"mean :\", np.mean(arr2d))\n"
      ],
      "metadata": {
        "colab": {
          "base_uri": "https://localhost:8080/"
        },
        "id": "pUpjJeDMBjFH",
        "outputId": "c2e0fdff-3a32-49c7-8114-cf43c6c19bab"
      },
      "execution_count": null,
      "outputs": [
        {
          "output_type": "stream",
          "name": "stdout",
          "text": [
            "[[1 2 3]\n",
            " [4 5 6]\n",
            " [7 8 9]]\n",
            "mean : 5.0\n"
          ]
        }
      ]
    },
    {
      "cell_type": "code",
      "source": [
        "# 3D Array:\n",
        "data = np.array([\n",
        "    [\n",
        "        [6.5, 72],\n",
        "        [1.0, 80],\n",
        "        [7.0, 65]\n",
        "    ],\n",
        "    [\n",
        "        [5.5, 78],\n",
        "        [0.5, 85],\n",
        "        [6.0, 70]\n",
        "    ]\n",
        "])\n",
        "\n",
        "print(\"Shape of array:\", data.shape)\n",
        "print(\"3D Data Array:\\n\", data)\n"
      ],
      "metadata": {
        "colab": {
          "base_uri": "https://localhost:8080/"
        },
        "id": "vyTxVybKDps3",
        "outputId": "8190a959-6ad3-4de7-fdcf-934329127e8e"
      },
      "execution_count": null,
      "outputs": [
        {
          "output_type": "stream",
          "name": "stdout",
          "text": [
            "Shape of array: (2, 3, 2)\n",
            "3D Data Array:\n",
            " [[[ 6.5 72. ]\n",
            "  [ 1.  80. ]\n",
            "  [ 7.  65. ]]\n",
            "\n",
            " [[ 5.5 78. ]\n",
            "  [ 0.5 85. ]\n",
            "  [ 6.  70. ]]]\n"
          ]
        }
      ]
    },
    {
      "cell_type": "markdown",
      "source": [
        "NumPy-তে slicing (ক্লিকিং) এবং dicing (ডাইসিং) সম্পর্কে ধারণা:\n",
        "Slicing এবং Dicing হলো অ্যারে থেকে নির্দিষ্ট অংশ বের করার পদ্ধতি। এখানে Slicing দিয়ে আমরা একটি অ্যারে বা মেট্রিক্সের নির্দিষ্ট অংশের sub-array বের করি, আর Dicing মানে হলো একাধিক sub-arrays একসাথে বের করা।\n",
        "\n",
        "🔹 1. Slicing (ক্লিকিং):\n",
        "Slicing দ্বারা আমরা একমাত্র একটি অংশ বা সাব-অ্যারে নির্বাচন করি। সাধারণত এটি : এর মাধ্যমে করা হয়, যা নির্দেশ করে যে কতটা অংশ নির্বাচন করা হবে।\n",
        "\n",
        "Slicing Syntax:\n",
        "python\n",
        "Copy\n",
        "Edit\n",
        "array[start:stop:step]\n",
        "\n",
        "\n",
        "start → প্রথম ইনডেক্স (যেখানে থেকে শুরু হবে)\n",
        "\n",
        "stop → শেষ ইনডেক্স (এটি অন্তর্ভুক্ত হবে না)\n",
        "\n",
        "step → কতটা করে ধাপে ধাপে এগিয়ে যাবেন\n",
        "\n",
        "\n"
      ],
      "metadata": {
        "id": "iyWcUMwCFpWO"
      }
    },
    {
      "cell_type": "code",
      "source": [
        "arr = np.array([10, 20, 30, 40, 50])\n",
        "slice_arr = arr[1:5]\n",
        "print(\"Sliced Array:\", slice_arr)"
      ],
      "metadata": {
        "colab": {
          "base_uri": "https://localhost:8080/"
        },
        "id": "abjiUAnUF8b2",
        "outputId": "b1c0604e-f375-40fb-de14-256a08c7f61d"
      },
      "execution_count": null,
      "outputs": [
        {
          "output_type": "stream",
          "name": "stdout",
          "text": [
            "Sliced Array: [20 30 40 50]\n"
          ]
        }
      ]
    },
    {
      "cell_type": "markdown",
      "source": [
        "🔹 2. Dicing (ডাইসিং):\n",
        "Dicing হলো slicing এর মতো, কিন্তু এতে একাধিক সাব-অ্যারে তৈরি হয়। সাধারণত 3D অ্যারে বা বড় অ্যারে নিয়ে কাজ করার সময় Dicing বেশি কাজে আসে।"
      ],
      "metadata": {
        "id": "AWQehmP8GSem"
      }
    },
    {
      "cell_type": "code",
      "source": [
        "arr3d = np.array([\n",
        "    [[1, 2, 3], [4, 5, 6]],\n",
        "    [[7, 8, 9], [10, 11, 12]]\n",
        "])\n",
        "\n",
        "dice_arr = arr3d[:, 1, :]\n",
        "print(\"Diced 3D Array:\\n\", dice_arr)\n"
      ],
      "metadata": {
        "colab": {
          "base_uri": "https://localhost:8080/"
        },
        "id": "Q62WRV3HGd4-",
        "outputId": "914d22c3-925d-400d-9a7c-29e65e7435d0"
      },
      "execution_count": null,
      "outputs": [
        {
          "output_type": "stream",
          "name": "stdout",
          "text": [
            "Diced 3D Array:\n",
            " [[ 4  5  6]\n",
            " [10 11 12]]\n"
          ]
        }
      ]
    },
    {
      "cell_type": "markdown",
      "source": [
        "🎯 উদাহরণ ১: 2D Array Flatten\n",
        "\n"
      ],
      "metadata": {
        "id": "fGeX96NHH-aH"
      }
    },
    {
      "cell_type": "code",
      "source": [
        "arr2d = np.array([[1, 2, 3], [4, 5, 6]])\n",
        "flat = arr2d.flatten()\n",
        "print(\"Original Array:\\n\", arr2d)\n",
        "print(\"Flattened Array:\", flat)"
      ],
      "metadata": {
        "colab": {
          "base_uri": "https://localhost:8080/"
        },
        "id": "TdoplR_QIBXu",
        "outputId": "fea43630-a2e0-444f-823a-cc573927025b"
      },
      "execution_count": null,
      "outputs": [
        {
          "output_type": "stream",
          "name": "stdout",
          "text": [
            "Original Array:\n",
            " [[1 2 3]\n",
            " [4 5 6]]\n",
            "Flattened Array: [1 2 3 4 5 6]\n"
          ]
        }
      ]
    },
    {
      "cell_type": "markdown",
      "source": [
        "arange(): NumPy এর একটি খুবই শক্তিশালী ফাংশন, যা একটি নির্দিষ্ট পরিসরের মধ্যে সংখ্যার সিকোয়েন্স তৈরি করতে ব্যবহৃত হয়। এটি মূলত range() ফাংশনের মতোই কাজ করে, তবে এতে আরো বেশ কিছু অপশন থাকে, যেমন: step (ধাপ) এবং বিকল্প আউটপুট টাইপ।\n",
        "📌 Syntax:\n",
        "\n",
        "\n",
        "\n",
        "numpy.arange([start, ]stop, [step, ], dtype=None)\n",
        "\n",
        "\n",
        "start: সিকোয়েন্সের প্রথম সংখ্যা (অপশনাল, ডিফল্ট 0)\n",
        "\n",
        "stop: সিকোয়েন্সের শেষ সংখ্যা (এটি অন্তর্ভুক্ত হয় না)\n",
        "\n",
        "step: ধাপ (যতটা পরবর্তী মানের মধ্যে বৃদ্ধি হবে) (অপশনাল, ডিফল্ট 1)\n",
        "\n",
        "dtype: আউটপুট অ্যারের ডেটা টাইপ (অপশনাল)\n"
      ],
      "metadata": {
        "id": "xXf_Rp8qIbTH"
      }
    },
    {
      "cell_type": "code",
      "source": [
        "arr = np.arange(10)\n",
        "print(arr)"
      ],
      "metadata": {
        "colab": {
          "base_uri": "https://localhost:8080/"
        },
        "id": "vWvzJ-BAIeJP",
        "outputId": "3714e1bd-96d0-4a52-d5a4-baed6bbcd0a3"
      },
      "execution_count": null,
      "outputs": [
        {
          "output_type": "stream",
          "name": "stdout",
          "text": [
            "[0 1 2 3 4 5 6 7 8 9]\n"
          ]
        }
      ]
    },
    {
      "cell_type": "code",
      "source": [
        "arr = np.arange(0, 10, 2)\n",
        "print(arr)"
      ],
      "metadata": {
        "colab": {
          "base_uri": "https://localhost:8080/"
        },
        "id": "SS3g0f8zI47u",
        "outputId": "805aa63e-6566-4c08-ca6b-401c5c20e201"
      },
      "execution_count": null,
      "outputs": [
        {
          "output_type": "stream",
          "name": "stdout",
          "text": [
            "[0 2 4 6 8]\n"
          ]
        }
      ]
    },
    {
      "cell_type": "code",
      "source": [
        "arr = np.arange(0, 5, 0.5)\n",
        "print(arr)"
      ],
      "metadata": {
        "colab": {
          "base_uri": "https://localhost:8080/"
        },
        "id": "eW9fqUUSJKKu",
        "outputId": "af5fe2bd-8d14-4e80-b693-1383be9c39d9"
      },
      "execution_count": null,
      "outputs": [
        {
          "output_type": "stream",
          "name": "stdout",
          "text": [
            "[0.  0.5 1.  1.5 2.  2.5 3.  3.5 4.  4.5]\n"
          ]
        }
      ]
    }
  ]
}