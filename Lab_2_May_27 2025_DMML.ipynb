{
  "nbformat": 4,
  "nbformat_minor": 0,
  "metadata": {
    "colab": {
      "private_outputs": true,
      "provenance": []
    },
    "kernelspec": {
      "name": "python3",
      "display_name": "Python 3"
    },
    "language_info": {
      "name": "python"
    }
  },
  "cells": [
    {
      "cell_type": "code",
      "execution_count": null,
      "metadata": {
        "id": "kJGuSvcx83U3"
      },
      "outputs": [],
      "source": []
    },
    {
      "cell_type": "markdown",
      "source": [
        "#Pandas Basic Lab"
      ],
      "metadata": {
        "id": "pqtVLCXbBR4W"
      }
    },
    {
      "cell_type": "code",
      "source": [
        "import numpy as np\n",
        "import pandas as pd\n",
        "\n",
        "df = pd.DataFrame({\n",
        "    'name': ['Aa', 'Bb', 'Cc', 'Dd', 'Ee', 'Ff'],\n",
        "    'Age': [25, np.nan, 35, 54, np.nan, 28],\n",
        "    'city': ['Dhaka', 'Khulna', 'Rajshahi', 'Sylhet', np.nan, 'Chittagong']\n",
        "\n",
        "})\n",
        "\n",
        "print(df)\n",
        "\n",
        "# Print the first 5 rows of the DataFrame\n",
        "print(df.head())\n",
        "\n",
        "# Print the last 2 rows of the DataFrame\n",
        "print(df.tail(2))\n",
        "\n",
        "# Print the shape (rows, columns) of the DataFrame\n",
        "print(df.shape)\n",
        "\n",
        "# Print concise summary of the DataFrame\n",
        "print(df.info())\n",
        "\n",
        "\n",
        "print(df.describe())\n",
        "\n",
        "\n",
        "\n"
      ],
      "metadata": {
        "id": "YdVgr8oO-QNS"
      },
      "execution_count": null,
      "outputs": []
    },
    {
      "cell_type": "code",
      "source": [
        "print(df['Age'])\n",
        "print(df['name'])\n",
        "print(df[['name', 'Age']])\n",
        "\n"
      ],
      "metadata": {
        "id": "Mjqjb1udBYZr"
      },
      "execution_count": null,
      "outputs": []
    },
    {
      "cell_type": "code",
      "source": [
        "print(df.loc[[2, 1]])  # Select rows with index 2 and 1\n",
        "\n",
        "print(df.loc[1:2, 'name':'city'])  # Select rows 1 to 2 and columns from 'name' to 'city'\n",
        "\n",
        "print(df.loc[[1, 3], ['name', 'city']])  # Select rows 1 and 3, columns 'name' and 'city'\n",
        "\n",
        "print(df.iloc[0:2])  # Select first two rows by position\n",
        "\n",
        "print(df.iloc[[2, 5]])  # Select rows 2 and 5 by position\n",
        "\n",
        "print(df.iloc[0, 2])  # Select value at row 0, column 2 (which is 'city')\n"
      ],
      "metadata": {
        "id": "yo451SWDFUVS"
      },
      "execution_count": null,
      "outputs": []
    },
    {
      "cell_type": "markdown",
      "source": [
        " #**Filter** rows where Age >= 30 and select specific columns"
      ],
      "metadata": {
        "id": "ntfpzIf_JfBS"
      }
    },
    {
      "cell_type": "code",
      "source": [
        "# Filter rows where Age >= 30 and select specific columns, e.g., 'name' and 'city'\n",
        "filtered = df.loc[df['Age'] >= 30, ['name', 'city']]\n",
        "print(filtered)\n"
      ],
      "metadata": {
        "id": "JWEgX6ksJtN6"
      },
      "execution_count": null,
      "outputs": []
    },
    {
      "cell_type": "code",
      "source": [
        "filtered = df.loc[(df['Age'] >= 30) & (df['city'].notna()), ['name', 'Age', 'city']]\n",
        "print(filtered)\n"
      ],
      "metadata": {
        "id": "gSuSxbMpKMOM"
      },
      "execution_count": null,
      "outputs": []
    },
    {
      "cell_type": "code",
      "source": [
        "from google.colab import files\n",
        "import pandas as pd\n",
        "\n",
        "# Step 1: Upload the file (a file picker will appear)\n",
        "uploaded = files.upload()\n",
        "\n",
        "# Step 2: Get the uploaded filename (assuming you upload 'Data.csv')\n",
        "filename = list(uploaded.keys())[0]\n",
        "\n",
        "# Step 3: Read the CSV file correctly\n",
        "data = pd.read_csv('Data.cvs')\n",
        "\n",
        "# Step 4: Print the DataFrame\n",
        "print(data)\n"
      ],
      "metadata": {
        "id": "cfLPbT2uL0mK"
      },
      "execution_count": null,
      "outputs": []
    }
  ]
}